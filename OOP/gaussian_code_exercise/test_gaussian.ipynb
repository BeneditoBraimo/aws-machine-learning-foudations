{
 "cells": [
  {
   "cell_type": "code",
   "execution_count": null,
   "source": [
    "from gaussian import Gaussian\r\n",
    "import unittest\r\n",
    "\r\n",
    "class TestGaussianClass(unittest.TestCase):\r\n",
    "    def setUp(self):\r\n",
    "        self.gaussian = Gaussian(25, 2)\r\n",
    "\r\n",
    "    def test_initialization(self): \r\n",
    "        self.assertEqual(self.gaussian.mean, 25, 'incorrect mean')\r\n",
    "        self.assertEqual(self.gaussian.stdev, 2, 'incorrect standard deviation')\r\n",
    "\r\n",
    "    def test_pdf(self):\r\n",
    "        self.assertEqual(round(self.gaussian.pdf(25), 5), 0.19947,\\\r\n",
    "         'pdf function does not give expected result') \r\n",
    "\r\n",
    "    def test_meancalculation(self):\r\n",
    "        self.gaussian.read_data_file('numbers.txt', True)\r\n",
    "        self.assertEqual(self.gaussian.calculate_mean(),\\\r\n",
    "         sum(self.gaussian.data) / float(len(self.gaussian.data)), 'calculated mean not as expected')\r\n",
    "\r\n",
    "    def test_stdevcalculation(self):\r\n",
    "        self.gaussian.read_data_file('numbers.txt', True)\r\n",
    "        self.assertEqual(round(self.gaussian.stdev, 2), 92.87, 'sample standard deviation incorrect')\r\n",
    "        self.gaussian.read_data_file('numbers.txt', False)\r\n",
    "        self.assertEqual(round(self.gaussian.stdev, 2), 88.55, 'population standard deviation incorrect')\r\n",
    "                \r\n",
    "tests = TestGaussianClass()\r\n",
    "\r\n",
    "tests_loaded = unittest.TestLoader().loadTestsFromModule(tests)\r\n",
    "\r\n",
    "unittest.TextTestRunner().run(tests_loaded)"
   ],
   "outputs": [],
   "metadata": {}
  }
 ],
 "metadata": {
  "kernelspec": {
   "name": "python3",
   "display_name": "Python 3.8.8 64-bit ('base': conda)"
  },
  "language_info": {
   "codemirror_mode": {
    "name": "ipython",
    "version": 3
   },
   "file_extension": ".py",
   "mimetype": "text/x-python",
   "name": "python",
   "nbconvert_exporter": "python",
   "pygments_lexer": "ipython3",
   "version": "3.8.8"
  },
  "interpreter": {
   "hash": "eeda80534e1204795bc5ba259574ae0923b193a3b005c0a60dbbecaa14bd0999"
  }
 },
 "nbformat": 4,
 "nbformat_minor": 4
}