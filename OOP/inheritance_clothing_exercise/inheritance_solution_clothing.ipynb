{
 "cells": [
  {
   "cell_type": "code",
   "execution_count": null,
   "source": [
    "from clothing import Clothing\r\n",
    "from blouse import Blouse\r\n",
    "from pants import Pants\r\n",
    "import unittest\r\n",
    "class TestClothingClass(unittest.TestCase):\r\n",
    "    def setUp(self):\r\n",
    "        self.clothing = Clothing('orange', 'M', 'stripes', 35)\r\n",
    "        self.blouse = Blouse('blue', 'M', 'luxury', 40, 'Brazil')\r\n",
    "        self.pants = Pants('black', 32, 'baggy', 60, 30)\r\n",
    "        \r\n",
    "    def test_initialization(self): \r\n",
    "        self.assertEqual(self.clothing.color, 'orange', 'color should be orange')\r\n",
    "        self.assertEqual(self.clothing.price, 35, 'incorrect price')\r\n",
    "        \r\n",
    "        self.assertEqual(self.blouse.color, 'blue', 'color should be blue')\r\n",
    "        self.assertEqual(self.blouse.size, 'M', 'incorrect size')\r\n",
    "        self.assertEqual(self.blouse.style, 'luxury', 'incorrect style')\r\n",
    "        self.assertEqual(self.blouse.price, 40, 'incorrect price')\r\n",
    "        self.assertEqual(self.blouse.country_of_origin, 'Brazil', 'incorrect country of origin')\r\n",
    "\r\n",
    "    def test_calculateshipping(self):\r\n",
    "        self.assertEqual(self.clothing.calculate_shipping(.5, 3), .5 * 3,\\\r\n",
    "         'Clothing shipping calculation not as expected') \r\n",
    "\r\n",
    "        self.assertEqual(self.blouse.calculate_shipping(.5, 3), .5 * 3,\\\r\n",
    "         'Clothing shipping calculation not as expected') \r\n",
    "    \r\n",
    "tests = TestClothingClass()\r\n",
    "\r\n",
    "tests_loaded = unittest.TestLoader().loadTestsFromModule(tests)\r\n",
    "\r\n",
    "unittest.TextTestRunner().run(tests_loaded)"
   ],
   "outputs": [],
   "metadata": {}
  }
 ],
 "metadata": {
  "orig_nbformat": 4,
  "language_info": {
   "name": "python",
   "version": "3.8.8",
   "mimetype": "text/x-python",
   "codemirror_mode": {
    "name": "ipython",
    "version": 3
   },
   "pygments_lexer": "ipython3",
   "nbconvert_exporter": "python",
   "file_extension": ".py"
  },
  "kernelspec": {
   "name": "python3",
   "display_name": "Python 3.8.8 64-bit ('base': conda)"
  },
  "interpreter": {
   "hash": "eeda80534e1204795bc5ba259574ae0923b193a3b005c0a60dbbecaa14bd0999"
  }
 },
 "nbformat": 4,
 "nbformat_minor": 2
}