{
 "cells": [
  {
   "cell_type": "code",
   "execution_count": null,
   "source": [
    "from Shirt import Shirt\r\n",
    "\r\n",
    "shirt_one = Shirt('red', 'S', 'long-sleeve', 25)\r\n",
    "\r\n",
    "print(\"Shirt price: {}\".format(shirt_one.price))\r\n",
    "\r\n",
    "shirt_one.change_price(10)\r\n",
    "\r\n",
    "print(shirt_one.price)\r\n",
    "\r\n",
    "print(shirt_one.discount(.12))\r\n",
    "\r\n",
    "shirt_two = Shirt('orange', 'L', 'short-sleeve', 10)\r\n",
    "\r\n",
    "total_cost = shirt_one.price + shirt_two.price\r\n",
    "\r\n",
    "total_discount = shirt_one.discount(.14) + shirt_two.discount(.06)\r\n"
   ],
   "outputs": [],
   "metadata": {}
  },
  {
   "cell_type": "code",
   "execution_count": null,
   "source": [
    "from tests import run_tests\r\n",
    "run_tests(shirt_one, shirt_two, total_cost, total_discount)"
   ],
   "outputs": [],
   "metadata": {}
  }
 ],
 "metadata": {
  "orig_nbformat": 4,
  "language_info": {
   "name": "python"
  }
 },
 "nbformat": 4,
 "nbformat_minor": 2
}