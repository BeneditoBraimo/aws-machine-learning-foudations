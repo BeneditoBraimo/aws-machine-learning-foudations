{
  "cells": [
    {
      "cell_type": "code",
      "execution_count": null,
      "source": [
        "from pants import Pants\r\n",
        "def check_results():\r\n",
        "    pants = Pants('red', 35, 36, 15.12)\r\n",
        "    assert pants.color == 'red'\r\n",
        "    assert pants.waist_size == 35\r\n",
        "    assert pants.length == 36\r\n",
        "    assert pants.price == 15.12\r\n",
        "    \r\n",
        "    pants.change_price(10) == 10\r\n",
        "    assert pants.price == 10 \r\n",
        "    \r\n",
        "    assert pants.discount(.1) == 9\r\n",
        "    \r\n",
        "    print('You made it to the end of the check. Nice job!')\r\n",
        "\r\n",
        "check_results()"
      ],
      "outputs": [],
      "metadata": {}
    },
    {
      "cell_type": "code",
      "execution_count": null,
      "source": [
        "from salesPerson import SalesPerson\r\n",
        "def check_results():\r\n",
        "    pants_one = Pants('red', 35, 36, 15.12)\r\n",
        "    pants_two = Pants('blue', 40, 38, 24.12)\r\n",
        "    pants_three = Pants('tan', 28, 30, 8.12)\r\n",
        "    \r\n",
        "    salesperson = SalesPerson('Amy', 'Gonzalez', 2581923, 40000)\r\n",
        "    \r\n",
        "    assert salesperson.first_name == 'Amy'\r\n",
        "    assert salesperson.last_name == 'Gonzalez'\r\n",
        "    assert salesperson.employee_id == 2581923\r\n",
        "    assert salesperson.salary == 40000\r\n",
        "    assert salesperson.pants_sold == []\r\n",
        "    assert salesperson.total_sales == 0\r\n",
        "    \r\n",
        "    salesperson.sell_pants(pants_one)\r\n",
        "    salesperson.pants_sold[0] == pants_one.color\r\n",
        "    \r\n",
        "    salesperson.sell_pants(pants_two)\r\n",
        "    salesperson.sell_pants(pants_three)\r\n",
        "    \r\n",
        "    assert len(salesperson.pants_sold) == 3\r\n",
        "    assert round(salesperson.calculate_sales(),2) == 47.36\r\n",
        "    assert round(salesperson.calculate_commission(.1),2) == 4.74\r\n",
        "    \r\n",
        "    print('Great job, you made it to the end of the code checks!')\r\n",
        "    \r\n",
        "check_results()"
      ],
      "outputs": [],
      "metadata": {}
    },
    {
      "cell_type": "code",
      "execution_count": null,
      "source": [
        "pants_one = Pants('red', 35, 36, 15.12)\r\n",
        "pants_two = Pants('blue', 40, 38, 24.12)\r\n",
        "pants_three = Pants('tan', 28, 30, 8.12)\r\n",
        "\r\n",
        "salesperson = SalesPerson('Amy', 'Gonzalez', 2581923, 40000)\r\n",
        "\r\n",
        "salesperson.sell_pants(pants_one)    \r\n",
        "salesperson.sell_pants(pants_two)\r\n",
        "salesperson.sell_pants(pants_three)\r\n",
        "\r\n",
        "salesperson.display_sales()"
      ],
      "outputs": [],
      "metadata": {}
    }
  ],
  "metadata": {
    "orig_nbformat": 4,
    "language_info": {
      "name": "python",
      "version": "3.8.8",
      "mimetype": "text/x-python",
      "codemirror_mode": {
        "name": "ipython",
        "version": 3
      },
      "pygments_lexer": "ipython3",
      "nbconvert_exporter": "python",
      "file_extension": ".py"
    },
    "kernelspec": {
      "name": "python3",
      "display_name": "Python 3.8.8 64-bit ('base': conda)"
    },
    "interpreter": {
      "hash": "eeda80534e1204795bc5ba259574ae0923b193a3b005c0a60dbbecaa14bd0999"
    }
  },
  "nbformat": 4,
  "nbformat_minor": 2
}