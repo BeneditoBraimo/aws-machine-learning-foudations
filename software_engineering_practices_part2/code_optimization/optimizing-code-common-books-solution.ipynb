{
 "cells": [
  {
   "cell_type": "code",
   "execution_count": 1,
   "source": [
    "import time\r\n",
    "import pandas as pd\r\n",
    "import numpy as np\r\n",
    "\r\n",
    "with open('books_published_last_two_years.txt') as f:\r\n",
    "    recent_books = f.read().split('\\n')\r\n",
    "\r\n",
    "with open('all_coding_books.txt') as f:\r\n",
    "    coding_books = f.read().split('\\n')\r\n",
    "\r\n",
    "start = time.time()\r\n",
    "recent_coding_books = []\r\n",
    "\r\n",
    "for book in recent_books:\r\n",
    "    if book in coding_books:\r\n",
    "        recent_coding_books.append(book)\r\n",
    "\r\n",
    "print(len(recent_coding_books))\r\n",
    "print('Duration: {} seconds'.format(time.time() - start))\r\n",
    "\r\n",
    "# Implementing Tip number 1\r\n",
    "\r\n",
    "start = time.time()\r\n",
    "recent_coding_books = np.intersect1d(recent_books, coding_books)\r\n",
    "print(len(recent_coding_books))\r\n",
    "print('Duration: {} seconds'.format(time.time() - start))\r\n",
    "\r\n",
    "start = time.time()\r\n",
    "recent_coding_books = set(recent_books).intersection(coding_books)"
   ],
   "outputs": [
    {
     "output_type": "stream",
     "name": "stdout",
     "text": [
      "96\n",
      "Duration: 45.42924165725708 seconds\n",
      "96\n",
      "Duration: 0.13348770141601562 seconds\n"
     ]
    }
   ],
   "metadata": {}
  },
  {
   "cell_type": "code",
   "execution_count": null,
   "source": [],
   "outputs": [],
   "metadata": {}
  },
  {
   "cell_type": "code",
   "execution_count": null,
   "source": [],
   "outputs": [],
   "metadata": {}
  }
 ],
 "metadata": {
  "interpreter": {
   "hash": "eeda80534e1204795bc5ba259574ae0923b193a3b005c0a60dbbecaa14bd0999"
  },
  "kernelspec": {
   "name": "python3",
   "display_name": "Python 3.8.8 64-bit ('base': conda)"
  },
  "language_info": {
   "codemirror_mode": {
    "name": "ipython",
    "version": 3
   },
   "file_extension": ".py",
   "mimetype": "text/x-python",
   "name": "python",
   "nbconvert_exporter": "python",
   "pygments_lexer": "ipython3",
   "version": "3.8.8"
  }
 },
 "nbformat": 4,
 "nbformat_minor": 5
}