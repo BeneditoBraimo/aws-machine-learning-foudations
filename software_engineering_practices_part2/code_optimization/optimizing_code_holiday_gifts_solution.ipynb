{
 "cells": [
  {
   "cell_type": "code",
   "execution_count": null,
   "source": [
    "import time\r\n",
    "import numpy as np\r\n",
    "\r\n",
    "with open('gift_costs.txt') as f:\r\n",
    "    gift_costs = f.read().split('\\n')\r\n",
    "\r\n",
    "gift_costs = np.array(gift_costs).astype(int) # convert string to int\r\n",
    "\r\n",
    "start = time.time()\r\n",
    "total_price = 0\r\n",
    "for cost in gift_costs:\r\n",
    "    if cost < 25:\r\n",
    "        total_price += cost * 1.08 #add cost after tax\r\n",
    "\r\n",
    "print(total_price)\r\n",
    "print('Duration: {} seconds'.format(time.time() - start))\r\n",
    "\r\n",
    "start = time.time()\r\n",
    "\r\n",
    "# compute the total price using numpy to select all elements in an array that meet a certain condition\r\n",
    "total_price = (gift_costs[gift_costs < 25]).sum() * 1.08\r\n",
    "print(total_price)\r\n",
    "print('Duration: {} seconds'.format(time.time() - start))"
   ],
   "outputs": [],
   "metadata": {}
  }
 ],
 "metadata": {
  "orig_nbformat": 4,
  "language_info": {
   "name": "python",
   "version": "3.8.8"
  },
  "kernelspec": {
   "name": "python3",
   "display_name": "Python 3.8.8 64-bit ('base': conda)"
  },
  "interpreter": {
   "hash": "eeda80534e1204795bc5ba259574ae0923b193a3b005c0a60dbbecaa14bd0999"
  }
 },
 "nbformat": 4,
 "nbformat_minor": 2
}